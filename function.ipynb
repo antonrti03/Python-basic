{
 "cells": [
  {
   "cell_type": "code",
<<<<<<< HEAD
   "execution_count": 2,
=======
   "execution_count": 1,
>>>>>>> conflict
   "metadata": {},
   "outputs": [
    {
     "name": "stdout",
     "output_type": "stream",
     "text": [
<<<<<<< HEAD
      "ket qua:  50\n"
=======
      "ket qua 50\n"
>>>>>>> conflict
     ]
    }
   ],
   "source": [
    "import cv2\n",
    "\" conflict here!\"\n",
    "'''\n",
    "jfghd\n",
    "dgdsg\n",
    "dsgdsgsd\n",
    "dgsdgsd\n",
    "dgsdsg\n",
    "da\n",
    "dad\n",
    "adfaf\n",
    "afasf\n",
    "sfsaf\n",
    "'''\n",
    "a = 20\n",
<<<<<<< HEAD
    "b = 50\n",
=======
    "b = 30\n",
>>>>>>> conflict
    "conflict = a+b\n",
    "print(\"ket qua: \", conflict)"
   ]
  }
 ],
 "metadata": {
  "kernelspec": {
   "display_name": "Python 3.7.13 ('tf_env_3.7')",
   "language": "python",
   "name": "python3"
  },
  "language_info": {
   "codemirror_mode": {
    "name": "ipython",
    "version": 3
   },
   "file_extension": ".py",
   "mimetype": "text/x-python",
   "name": "python",
   "nbconvert_exporter": "python",
   "pygments_lexer": "ipython3",
   "version": "3.7.13"
  },
  "orig_nbformat": 4,
  "vscode": {
   "interpreter": {
    "hash": "0bb6f072b3914c0ce0df2069336f190c4043acb1455ad1f46fe8f1aedf23b775"
   }
  }
 },
 "nbformat": 4,
 "nbformat_minor": 2
}
