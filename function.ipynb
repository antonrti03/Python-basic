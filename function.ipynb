{
 "cells": [
  {
   "cell_type": "code",
   "execution_count": null,
   "metadata": {},
   "outputs": [],
   "source": [
    "import cv2\n",
<<<<<<< HEAD
    "'''\n",
    "jfghd\n",
    "dgdsg\n",
    "dsgdsgsd\n",
    "dgsdgsd\n",
=======
    "\" conflict here!\"\n",
    "'''\n",
    "jfghd\n",
    "dgdsg\n",
    "\n",
    "\n",
>>>>>>> conflict
    "dgsdsg\n",
    "'''"
   ]
  }
 ],
 "metadata": {
  "language_info": {
   "name": "python"
  },
  "orig_nbformat": 4
 },
 "nbformat": 4,
 "nbformat_minor": 2
}
